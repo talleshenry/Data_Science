{
  "nbformat": 4,
  "nbformat_minor": 0,
  "metadata": {
    "colab": {
      "name": "Atividade Final Estatistica - Talles.ipynb",
      "provenance": [],
      "collapsed_sections": [],
      "toc_visible": true,
      "include_colab_link": true
    },
    "kernelspec": {
      "name": "python3",
      "display_name": "Python 3"
    },
    "accelerator": "GPU"
  },
  "cells": [
    {
      "cell_type": "markdown",
      "metadata": {
        "id": "view-in-github",
        "colab_type": "text"
      },
      "source": [
        "<a href=\"https://colab.research.google.com/github/talleshenry/Data_Science/blob/master/Data_Science/postgraduate/statistic/Atividade_Final_Estatistica_Talles.ipynb\" target=\"_parent\"><img src=\"https://colab.research.google.com/assets/colab-badge.svg\" alt=\"Open In Colab\"/></a>"
      ]
    },
    {
      "cell_type": "markdown",
      "metadata": {
        "id": "htJzApbTJ9PK",
        "colab_type": "text"
      },
      "source": [
        "# Atividade Final Estatística"
      ]
    },
    {
      "cell_type": "markdown",
      "metadata": {
        "id": "OvFYcKr_A5jI",
        "colab_type": "text"
      },
      "source": [
        "Importando as bibliotecas"
      ]
    },
    {
      "cell_type": "code",
      "metadata": {
        "id": "FXdgEeIq_r8t",
        "colab_type": "code",
        "colab": {}
      },
      "source": [
        "import pandas as pd, numpy as np, scipy as sp, seaborn as sb, statsmodels.api as sm"
      ],
      "execution_count": 0,
      "outputs": []
    },
    {
      "cell_type": "markdown",
      "metadata": {
        "id": "uCarNsMQA2yG",
        "colab_type": "text"
      },
      "source": [
        "Carregando o arquivo de dados"
      ]
    },
    {
      "cell_type": "code",
      "metadata": {
        "id": "J-YhO5WwBeYO",
        "colab_type": "code",
        "colab": {}
      },
      "source": [
        "dados_fb = pd.read_csv('fb.csv')"
      ],
      "execution_count": 0,
      "outputs": []
    },
    {
      "cell_type": "code",
      "metadata": {
        "id": "4g3Uq8mUBhAx",
        "colab_type": "code",
        "outputId": "189fef30-93e8-4369-eceb-25d83b9d87a4",
        "colab": {
          "base_uri": "https://localhost:8080/",
          "height": 204
        }
      },
      "source": [
        "dados_fb.head()"
      ],
      "execution_count": 0,
      "outputs": [
        {
          "output_type": "execute_result",
          "data": {
            "text/html": [
              "<div>\n",
              "<style scoped>\n",
              "    .dataframe tbody tr th:only-of-type {\n",
              "        vertical-align: middle;\n",
              "    }\n",
              "\n",
              "    .dataframe tbody tr th {\n",
              "        vertical-align: top;\n",
              "    }\n",
              "\n",
              "    .dataframe thead th {\n",
              "        text-align: right;\n",
              "    }\n",
              "</style>\n",
              "<table border=\"1\" class=\"dataframe\">\n",
              "  <thead>\n",
              "    <tr style=\"text-align: right;\">\n",
              "      <th></th>\n",
              "      <th>Var1</th>\n",
              "      <th>Var2</th>\n",
              "      <th>Var3</th>\n",
              "      <th>Var4</th>\n",
              "      <th>Var5</th>\n",
              "      <th>Var6</th>\n",
              "      <th>Var7</th>\n",
              "      <th>Var8</th>\n",
              "      <th>Var9</th>\n",
              "      <th>Var10</th>\n",
              "      <th>Var11</th>\n",
              "      <th>Var12</th>\n",
              "      <th>Var13</th>\n",
              "      <th>Var14</th>\n",
              "      <th>Var15</th>\n",
              "      <th>Var16</th>\n",
              "    </tr>\n",
              "  </thead>\n",
              "  <tbody>\n",
              "    <tr>\n",
              "      <th>0</th>\n",
              "      <td>1</td>\n",
              "      <td>12</td>\n",
              "      <td>4</td>\n",
              "      <td>3</td>\n",
              "      <td>0.0</td>\n",
              "      <td>2752</td>\n",
              "      <td>5091</td>\n",
              "      <td>178</td>\n",
              "      <td>109</td>\n",
              "      <td>159</td>\n",
              "      <td>3078</td>\n",
              "      <td>1640</td>\n",
              "      <td>4</td>\n",
              "      <td>79.0</td>\n",
              "      <td>17.0</td>\n",
              "      <td>100</td>\n",
              "    </tr>\n",
              "    <tr>\n",
              "      <th>1</th>\n",
              "      <td>2</td>\n",
              "      <td>12</td>\n",
              "      <td>3</td>\n",
              "      <td>10</td>\n",
              "      <td>0.0</td>\n",
              "      <td>10460</td>\n",
              "      <td>19057</td>\n",
              "      <td>1457</td>\n",
              "      <td>1361</td>\n",
              "      <td>1674</td>\n",
              "      <td>11710</td>\n",
              "      <td>6112</td>\n",
              "      <td>5</td>\n",
              "      <td>130.0</td>\n",
              "      <td>29.0</td>\n",
              "      <td>164</td>\n",
              "    </tr>\n",
              "    <tr>\n",
              "      <th>2</th>\n",
              "      <td>1</td>\n",
              "      <td>12</td>\n",
              "      <td>3</td>\n",
              "      <td>3</td>\n",
              "      <td>0.0</td>\n",
              "      <td>2413</td>\n",
              "      <td>4373</td>\n",
              "      <td>177</td>\n",
              "      <td>113</td>\n",
              "      <td>154</td>\n",
              "      <td>2812</td>\n",
              "      <td>1503</td>\n",
              "      <td>0</td>\n",
              "      <td>66.0</td>\n",
              "      <td>14.0</td>\n",
              "      <td>80</td>\n",
              "    </tr>\n",
              "    <tr>\n",
              "      <th>3</th>\n",
              "      <td>1</td>\n",
              "      <td>12</td>\n",
              "      <td>2</td>\n",
              "      <td>10</td>\n",
              "      <td>1.0</td>\n",
              "      <td>50128</td>\n",
              "      <td>87991</td>\n",
              "      <td>2211</td>\n",
              "      <td>790</td>\n",
              "      <td>1119</td>\n",
              "      <td>61027</td>\n",
              "      <td>32048</td>\n",
              "      <td>58</td>\n",
              "      <td>1572.0</td>\n",
              "      <td>147.0</td>\n",
              "      <td>1777</td>\n",
              "    </tr>\n",
              "    <tr>\n",
              "      <th>4</th>\n",
              "      <td>1</td>\n",
              "      <td>12</td>\n",
              "      <td>2</td>\n",
              "      <td>3</td>\n",
              "      <td>0.0</td>\n",
              "      <td>7244</td>\n",
              "      <td>13594</td>\n",
              "      <td>671</td>\n",
              "      <td>410</td>\n",
              "      <td>580</td>\n",
              "      <td>6228</td>\n",
              "      <td>3200</td>\n",
              "      <td>19</td>\n",
              "      <td>325.0</td>\n",
              "      <td>49.0</td>\n",
              "      <td>393</td>\n",
              "    </tr>\n",
              "  </tbody>\n",
              "</table>\n",
              "</div>"
            ],
            "text/plain": [
              "   Var1  Var2  Var3  Var4  Var5  ...  Var12  Var13   Var14  Var15  Var16\n",
              "0     1    12     4     3   0.0  ...   1640      4    79.0   17.0    100\n",
              "1     2    12     3    10   0.0  ...   6112      5   130.0   29.0    164\n",
              "2     1    12     3     3   0.0  ...   1503      0    66.0   14.0     80\n",
              "3     1    12     2    10   1.0  ...  32048     58  1572.0  147.0   1777\n",
              "4     1    12     2     3   0.0  ...   3200     19   325.0   49.0    393\n",
              "\n",
              "[5 rows x 16 columns]"
            ]
          },
          "metadata": {
            "tags": []
          },
          "execution_count": 3
        }
      ]
    },
    {
      "cell_type": "markdown",
      "metadata": {
        "id": "p5o71CX_Z9K1",
        "colab_type": "text"
      },
      "source": [
        "Renomeando as colunas para melhor visualizá-las"
      ]
    },
    {
      "cell_type": "code",
      "metadata": {
        "id": "Iloi61XTBtbr",
        "colab_type": "code",
        "colab": {}
      },
      "source": [
        "dados_fb.rename(columns={'Var1': 'tipo de postagem',\n",
        "                      'Var2': 'mes da postagem',\n",
        "                      'Var3': 'dia da semana',\n",
        "                      'Var4': 'hora da postagem',\n",
        "                      'Var5': 'anuncio pago', \n",
        "                      'Var6': 'recebeu e visualizou',\n",
        "                      'Var7': 'propaganda story ou timeline',\n",
        "                      'Var8': 'quantidade de engajamento',\n",
        "                      'Var9': 'clicaram para visualizar postagem',\n",
        "                      'Var10': 'clicaram e realizaram interacao',\n",
        "                      'Var11': 'usuarios que receberam e deram like',\n",
        "                      'Var12': 'usuarios que receberam visualizaram e deram like',\n",
        "                      'Var13': 'total de comentarios',\n",
        "                      'Var14': 'total de likes',\n",
        "                      'Var15': 'total de compartilhamento',\n",
        "                      'Var16': 'total de interacoes'},\n",
        "                      inplace=True)"
      ],
      "execution_count": 0,
      "outputs": []
    },
    {
      "cell_type": "code",
      "metadata": {
        "id": "vP4B_fubCpTB",
        "colab_type": "code",
        "outputId": "94dbf8ac-6db4-4ba5-ffa4-ab90bd3cb0b1",
        "colab": {
          "base_uri": "https://localhost:8080/",
          "height": 292
        }
      },
      "source": [
        "dados_fb.head()"
      ],
      "execution_count": 0,
      "outputs": [
        {
          "output_type": "execute_result",
          "data": {
            "text/html": [
              "<div>\n",
              "<style scoped>\n",
              "    .dataframe tbody tr th:only-of-type {\n",
              "        vertical-align: middle;\n",
              "    }\n",
              "\n",
              "    .dataframe tbody tr th {\n",
              "        vertical-align: top;\n",
              "    }\n",
              "\n",
              "    .dataframe thead th {\n",
              "        text-align: right;\n",
              "    }\n",
              "</style>\n",
              "<table border=\"1\" class=\"dataframe\">\n",
              "  <thead>\n",
              "    <tr style=\"text-align: right;\">\n",
              "      <th></th>\n",
              "      <th>tipo de postagem</th>\n",
              "      <th>mes da postagem</th>\n",
              "      <th>dia da semana</th>\n",
              "      <th>hora da postagem</th>\n",
              "      <th>anuncio pago</th>\n",
              "      <th>recebeu e visualizou</th>\n",
              "      <th>propaganda story ou timeline</th>\n",
              "      <th>quantidade de engajamento</th>\n",
              "      <th>clicaram para visualizar postagem</th>\n",
              "      <th>clicaram e realizaram interacao</th>\n",
              "      <th>usuarios que receberam e deram like</th>\n",
              "      <th>usuarios que receberam visualizaram e deram like</th>\n",
              "      <th>total de comentarios</th>\n",
              "      <th>total de likes</th>\n",
              "      <th>total de compartilhamento</th>\n",
              "      <th>total de interacoes</th>\n",
              "    </tr>\n",
              "  </thead>\n",
              "  <tbody>\n",
              "    <tr>\n",
              "      <th>0</th>\n",
              "      <td>1</td>\n",
              "      <td>12</td>\n",
              "      <td>4</td>\n",
              "      <td>3</td>\n",
              "      <td>0.0</td>\n",
              "      <td>2752</td>\n",
              "      <td>5091</td>\n",
              "      <td>178</td>\n",
              "      <td>109</td>\n",
              "      <td>159</td>\n",
              "      <td>3078</td>\n",
              "      <td>1640</td>\n",
              "      <td>4</td>\n",
              "      <td>79.0</td>\n",
              "      <td>17.0</td>\n",
              "      <td>100</td>\n",
              "    </tr>\n",
              "    <tr>\n",
              "      <th>1</th>\n",
              "      <td>2</td>\n",
              "      <td>12</td>\n",
              "      <td>3</td>\n",
              "      <td>10</td>\n",
              "      <td>0.0</td>\n",
              "      <td>10460</td>\n",
              "      <td>19057</td>\n",
              "      <td>1457</td>\n",
              "      <td>1361</td>\n",
              "      <td>1674</td>\n",
              "      <td>11710</td>\n",
              "      <td>6112</td>\n",
              "      <td>5</td>\n",
              "      <td>130.0</td>\n",
              "      <td>29.0</td>\n",
              "      <td>164</td>\n",
              "    </tr>\n",
              "    <tr>\n",
              "      <th>2</th>\n",
              "      <td>1</td>\n",
              "      <td>12</td>\n",
              "      <td>3</td>\n",
              "      <td>3</td>\n",
              "      <td>0.0</td>\n",
              "      <td>2413</td>\n",
              "      <td>4373</td>\n",
              "      <td>177</td>\n",
              "      <td>113</td>\n",
              "      <td>154</td>\n",
              "      <td>2812</td>\n",
              "      <td>1503</td>\n",
              "      <td>0</td>\n",
              "      <td>66.0</td>\n",
              "      <td>14.0</td>\n",
              "      <td>80</td>\n",
              "    </tr>\n",
              "    <tr>\n",
              "      <th>3</th>\n",
              "      <td>1</td>\n",
              "      <td>12</td>\n",
              "      <td>2</td>\n",
              "      <td>10</td>\n",
              "      <td>1.0</td>\n",
              "      <td>50128</td>\n",
              "      <td>87991</td>\n",
              "      <td>2211</td>\n",
              "      <td>790</td>\n",
              "      <td>1119</td>\n",
              "      <td>61027</td>\n",
              "      <td>32048</td>\n",
              "      <td>58</td>\n",
              "      <td>1572.0</td>\n",
              "      <td>147.0</td>\n",
              "      <td>1777</td>\n",
              "    </tr>\n",
              "    <tr>\n",
              "      <th>4</th>\n",
              "      <td>1</td>\n",
              "      <td>12</td>\n",
              "      <td>2</td>\n",
              "      <td>3</td>\n",
              "      <td>0.0</td>\n",
              "      <td>7244</td>\n",
              "      <td>13594</td>\n",
              "      <td>671</td>\n",
              "      <td>410</td>\n",
              "      <td>580</td>\n",
              "      <td>6228</td>\n",
              "      <td>3200</td>\n",
              "      <td>19</td>\n",
              "      <td>325.0</td>\n",
              "      <td>49.0</td>\n",
              "      <td>393</td>\n",
              "    </tr>\n",
              "  </tbody>\n",
              "</table>\n",
              "</div>"
            ],
            "text/plain": [
              "   tipo de postagem  ...  total de interacoes\n",
              "0                 1  ...                  100\n",
              "1                 2  ...                  164\n",
              "2                 1  ...                   80\n",
              "3                 1  ...                 1777\n",
              "4                 1  ...                  393\n",
              "\n",
              "[5 rows x 16 columns]"
            ]
          },
          "metadata": {
            "tags": []
          },
          "execution_count": 5
        }
      ]
    },
    {
      "cell_type": "code",
      "metadata": {
        "id": "QfD0ZSGc4MnV",
        "colab_type": "code",
        "outputId": "60edd22e-6df4-4005-fe4c-d2fbaed78151",
        "colab": {
          "base_uri": "https://localhost:8080/",
          "height": 507
        }
      },
      "source": [
        "dados = dados_fb.iloc [:, 5 : 16 ]\n",
        "dados"
      ],
      "execution_count": 0,
      "outputs": [
        {
          "output_type": "execute_result",
          "data": {
            "text/html": [
              "<div>\n",
              "<style scoped>\n",
              "    .dataframe tbody tr th:only-of-type {\n",
              "        vertical-align: middle;\n",
              "    }\n",
              "\n",
              "    .dataframe tbody tr th {\n",
              "        vertical-align: top;\n",
              "    }\n",
              "\n",
              "    .dataframe thead th {\n",
              "        text-align: right;\n",
              "    }\n",
              "</style>\n",
              "<table border=\"1\" class=\"dataframe\">\n",
              "  <thead>\n",
              "    <tr style=\"text-align: right;\">\n",
              "      <th></th>\n",
              "      <th>recebeu e visualizou</th>\n",
              "      <th>propaganda story ou timeline</th>\n",
              "      <th>quantidade de engajamento</th>\n",
              "      <th>clicaram para visualizar postagem</th>\n",
              "      <th>clicaram e realizaram interacao</th>\n",
              "      <th>usuarios que receberam e deram like</th>\n",
              "      <th>usuarios que receberam visualizaram e deram like</th>\n",
              "      <th>total de comentarios</th>\n",
              "      <th>total de likes</th>\n",
              "      <th>total de compartilhamento</th>\n",
              "      <th>total de interacoes</th>\n",
              "    </tr>\n",
              "  </thead>\n",
              "  <tbody>\n",
              "    <tr>\n",
              "      <th>0</th>\n",
              "      <td>2752</td>\n",
              "      <td>5091</td>\n",
              "      <td>178</td>\n",
              "      <td>109</td>\n",
              "      <td>159</td>\n",
              "      <td>3078</td>\n",
              "      <td>1640</td>\n",
              "      <td>4</td>\n",
              "      <td>79.0</td>\n",
              "      <td>17.0</td>\n",
              "      <td>100</td>\n",
              "    </tr>\n",
              "    <tr>\n",
              "      <th>1</th>\n",
              "      <td>10460</td>\n",
              "      <td>19057</td>\n",
              "      <td>1457</td>\n",
              "      <td>1361</td>\n",
              "      <td>1674</td>\n",
              "      <td>11710</td>\n",
              "      <td>6112</td>\n",
              "      <td>5</td>\n",
              "      <td>130.0</td>\n",
              "      <td>29.0</td>\n",
              "      <td>164</td>\n",
              "    </tr>\n",
              "    <tr>\n",
              "      <th>2</th>\n",
              "      <td>2413</td>\n",
              "      <td>4373</td>\n",
              "      <td>177</td>\n",
              "      <td>113</td>\n",
              "      <td>154</td>\n",
              "      <td>2812</td>\n",
              "      <td>1503</td>\n",
              "      <td>0</td>\n",
              "      <td>66.0</td>\n",
              "      <td>14.0</td>\n",
              "      <td>80</td>\n",
              "    </tr>\n",
              "    <tr>\n",
              "      <th>3</th>\n",
              "      <td>50128</td>\n",
              "      <td>87991</td>\n",
              "      <td>2211</td>\n",
              "      <td>790</td>\n",
              "      <td>1119</td>\n",
              "      <td>61027</td>\n",
              "      <td>32048</td>\n",
              "      <td>58</td>\n",
              "      <td>1572.0</td>\n",
              "      <td>147.0</td>\n",
              "      <td>1777</td>\n",
              "    </tr>\n",
              "    <tr>\n",
              "      <th>4</th>\n",
              "      <td>7244</td>\n",
              "      <td>13594</td>\n",
              "      <td>671</td>\n",
              "      <td>410</td>\n",
              "      <td>580</td>\n",
              "      <td>6228</td>\n",
              "      <td>3200</td>\n",
              "      <td>19</td>\n",
              "      <td>325.0</td>\n",
              "      <td>49.0</td>\n",
              "      <td>393</td>\n",
              "    </tr>\n",
              "    <tr>\n",
              "      <th>...</th>\n",
              "      <td>...</td>\n",
              "      <td>...</td>\n",
              "      <td>...</td>\n",
              "      <td>...</td>\n",
              "      <td>...</td>\n",
              "      <td>...</td>\n",
              "      <td>...</td>\n",
              "      <td>...</td>\n",
              "      <td>...</td>\n",
              "      <td>...</td>\n",
              "      <td>...</td>\n",
              "    </tr>\n",
              "    <tr>\n",
              "      <th>495</th>\n",
              "      <td>4684</td>\n",
              "      <td>7536</td>\n",
              "      <td>733</td>\n",
              "      <td>708</td>\n",
              "      <td>985</td>\n",
              "      <td>4750</td>\n",
              "      <td>2876</td>\n",
              "      <td>5</td>\n",
              "      <td>53.0</td>\n",
              "      <td>26.0</td>\n",
              "      <td>84</td>\n",
              "    </tr>\n",
              "    <tr>\n",
              "      <th>496</th>\n",
              "      <td>3480</td>\n",
              "      <td>6229</td>\n",
              "      <td>537</td>\n",
              "      <td>508</td>\n",
              "      <td>687</td>\n",
              "      <td>3961</td>\n",
              "      <td>2104</td>\n",
              "      <td>0</td>\n",
              "      <td>53.0</td>\n",
              "      <td>22.0</td>\n",
              "      <td>75</td>\n",
              "    </tr>\n",
              "    <tr>\n",
              "      <th>497</th>\n",
              "      <td>3778</td>\n",
              "      <td>7216</td>\n",
              "      <td>625</td>\n",
              "      <td>572</td>\n",
              "      <td>795</td>\n",
              "      <td>4742</td>\n",
              "      <td>2388</td>\n",
              "      <td>4</td>\n",
              "      <td>93.0</td>\n",
              "      <td>18.0</td>\n",
              "      <td>115</td>\n",
              "    </tr>\n",
              "    <tr>\n",
              "      <th>498</th>\n",
              "      <td>4156</td>\n",
              "      <td>7564</td>\n",
              "      <td>626</td>\n",
              "      <td>574</td>\n",
              "      <td>832</td>\n",
              "      <td>4534</td>\n",
              "      <td>2452</td>\n",
              "      <td>7</td>\n",
              "      <td>91.0</td>\n",
              "      <td>38.0</td>\n",
              "      <td>136</td>\n",
              "    </tr>\n",
              "    <tr>\n",
              "      <th>499</th>\n",
              "      <td>4188</td>\n",
              "      <td>7292</td>\n",
              "      <td>564</td>\n",
              "      <td>524</td>\n",
              "      <td>743</td>\n",
              "      <td>3861</td>\n",
              "      <td>2200</td>\n",
              "      <td>0</td>\n",
              "      <td>91.0</td>\n",
              "      <td>28.0</td>\n",
              "      <td>119</td>\n",
              "    </tr>\n",
              "  </tbody>\n",
              "</table>\n",
              "<p>500 rows × 11 columns</p>\n",
              "</div>"
            ],
            "text/plain": [
              "     recebeu e visualizou  ...  total de interacoes\n",
              "0                    2752  ...                  100\n",
              "1                   10460  ...                  164\n",
              "2                    2413  ...                   80\n",
              "3                   50128  ...                 1777\n",
              "4                    7244  ...                  393\n",
              "..                    ...  ...                  ...\n",
              "495                  4684  ...                   84\n",
              "496                  3480  ...                   75\n",
              "497                  3778  ...                  115\n",
              "498                  4156  ...                  136\n",
              "499                  4188  ...                  119\n",
              "\n",
              "[500 rows x 11 columns]"
            ]
          },
          "metadata": {
            "tags": []
          },
          "execution_count": 6
        }
      ]
    },
    {
      "cell_type": "markdown",
      "metadata": {
        "id": "GNQ_fic0KLmP",
        "colab_type": "text"
      },
      "source": [
        "## Atividade 1"
      ]
    },
    {
      "cell_type": "markdown",
      "metadata": {
        "id": "ePMCp8t6amg5",
        "colab_type": "text"
      },
      "source": [
        "Vamos agora análizar os dados, primeiro vamos ver a descrição"
      ]
    },
    {
      "cell_type": "code",
      "metadata": {
        "id": "vUj4dmnuXGKD",
        "colab_type": "code",
        "outputId": "d3a8d3e0-08f0-4679-e2d6-f069b9aba540",
        "colab": {
          "base_uri": "https://localhost:8080/",
          "height": 368
        }
      },
      "source": [
        "dados.describe()"
      ],
      "execution_count": 0,
      "outputs": [
        {
          "output_type": "execute_result",
          "data": {
            "text/html": [
              "<div>\n",
              "<style scoped>\n",
              "    .dataframe tbody tr th:only-of-type {\n",
              "        vertical-align: middle;\n",
              "    }\n",
              "\n",
              "    .dataframe tbody tr th {\n",
              "        vertical-align: top;\n",
              "    }\n",
              "\n",
              "    .dataframe thead th {\n",
              "        text-align: right;\n",
              "    }\n",
              "</style>\n",
              "<table border=\"1\" class=\"dataframe\">\n",
              "  <thead>\n",
              "    <tr style=\"text-align: right;\">\n",
              "      <th></th>\n",
              "      <th>recebeu e visualizou</th>\n",
              "      <th>propaganda story ou timeline</th>\n",
              "      <th>quantidade de engajamento</th>\n",
              "      <th>clicaram para visualizar postagem</th>\n",
              "      <th>clicaram e realizaram interacao</th>\n",
              "      <th>usuarios que receberam e deram like</th>\n",
              "      <th>usuarios que receberam visualizaram e deram like</th>\n",
              "      <th>total de comentarios</th>\n",
              "      <th>total de likes</th>\n",
              "      <th>total de compartilhamento</th>\n",
              "      <th>total de interacoes</th>\n",
              "    </tr>\n",
              "  </thead>\n",
              "  <tbody>\n",
              "    <tr>\n",
              "      <th>count</th>\n",
              "      <td>500.00000</td>\n",
              "      <td>5.000000e+02</td>\n",
              "      <td>500.000000</td>\n",
              "      <td>500.000000</td>\n",
              "      <td>500.000000</td>\n",
              "      <td>5.000000e+02</td>\n",
              "      <td>500.000000</td>\n",
              "      <td>500.00000</td>\n",
              "      <td>499.000000</td>\n",
              "      <td>496.000000</td>\n",
              "      <td>500.000000</td>\n",
              "    </tr>\n",
              "    <tr>\n",
              "      <th>mean</th>\n",
              "      <td>13903.36000</td>\n",
              "      <td>2.958595e+04</td>\n",
              "      <td>920.344000</td>\n",
              "      <td>798.772000</td>\n",
              "      <td>1415.130000</td>\n",
              "      <td>1.676638e+04</td>\n",
              "      <td>6585.488000</td>\n",
              "      <td>7.48200</td>\n",
              "      <td>177.945892</td>\n",
              "      <td>27.266129</td>\n",
              "      <td>212.120000</td>\n",
              "    </tr>\n",
              "    <tr>\n",
              "      <th>std</th>\n",
              "      <td>22740.78789</td>\n",
              "      <td>7.680325e+04</td>\n",
              "      <td>985.016636</td>\n",
              "      <td>882.505013</td>\n",
              "      <td>2000.594118</td>\n",
              "      <td>5.979102e+04</td>\n",
              "      <td>7682.009405</td>\n",
              "      <td>21.18091</td>\n",
              "      <td>323.398742</td>\n",
              "      <td>42.613292</td>\n",
              "      <td>380.233118</td>\n",
              "    </tr>\n",
              "    <tr>\n",
              "      <th>min</th>\n",
              "      <td>238.00000</td>\n",
              "      <td>5.700000e+02</td>\n",
              "      <td>9.000000</td>\n",
              "      <td>9.000000</td>\n",
              "      <td>9.000000</td>\n",
              "      <td>5.670000e+02</td>\n",
              "      <td>236.000000</td>\n",
              "      <td>0.00000</td>\n",
              "      <td>0.000000</td>\n",
              "      <td>0.000000</td>\n",
              "      <td>0.000000</td>\n",
              "    </tr>\n",
              "    <tr>\n",
              "      <th>25%</th>\n",
              "      <td>3315.00000</td>\n",
              "      <td>5.694750e+03</td>\n",
              "      <td>393.750000</td>\n",
              "      <td>332.500000</td>\n",
              "      <td>509.250000</td>\n",
              "      <td>3.969750e+03</td>\n",
              "      <td>2181.500000</td>\n",
              "      <td>1.00000</td>\n",
              "      <td>56.500000</td>\n",
              "      <td>10.000000</td>\n",
              "      <td>71.000000</td>\n",
              "    </tr>\n",
              "    <tr>\n",
              "      <th>50%</th>\n",
              "      <td>5281.00000</td>\n",
              "      <td>9.051000e+03</td>\n",
              "      <td>625.500000</td>\n",
              "      <td>551.500000</td>\n",
              "      <td>851.000000</td>\n",
              "      <td>6.255500e+03</td>\n",
              "      <td>3417.000000</td>\n",
              "      <td>3.00000</td>\n",
              "      <td>101.000000</td>\n",
              "      <td>19.000000</td>\n",
              "      <td>123.500000</td>\n",
              "    </tr>\n",
              "    <tr>\n",
              "      <th>75%</th>\n",
              "      <td>13168.00000</td>\n",
              "      <td>2.208550e+04</td>\n",
              "      <td>1062.000000</td>\n",
              "      <td>955.500000</td>\n",
              "      <td>1463.000000</td>\n",
              "      <td>1.486050e+04</td>\n",
              "      <td>7989.000000</td>\n",
              "      <td>7.00000</td>\n",
              "      <td>187.500000</td>\n",
              "      <td>32.250000</td>\n",
              "      <td>228.500000</td>\n",
              "    </tr>\n",
              "    <tr>\n",
              "      <th>max</th>\n",
              "      <td>180480.00000</td>\n",
              "      <td>1.110282e+06</td>\n",
              "      <td>11452.000000</td>\n",
              "      <td>11328.000000</td>\n",
              "      <td>19779.000000</td>\n",
              "      <td>1.107833e+06</td>\n",
              "      <td>51456.000000</td>\n",
              "      <td>372.00000</td>\n",
              "      <td>5172.000000</td>\n",
              "      <td>790.000000</td>\n",
              "      <td>6334.000000</td>\n",
              "    </tr>\n",
              "  </tbody>\n",
              "</table>\n",
              "</div>"
            ],
            "text/plain": [
              "       recebeu e visualizou  ...  total de interacoes\n",
              "count             500.00000  ...           500.000000\n",
              "mean            13903.36000  ...           212.120000\n",
              "std             22740.78789  ...           380.233118\n",
              "min               238.00000  ...             0.000000\n",
              "25%              3315.00000  ...            71.000000\n",
              "50%              5281.00000  ...           123.500000\n",
              "75%             13168.00000  ...           228.500000\n",
              "max            180480.00000  ...          6334.000000\n",
              "\n",
              "[8 rows x 11 columns]"
            ]
          },
          "metadata": {
            "tags": []
          },
          "execution_count": 7
        }
      ]
    },
    {
      "cell_type": "markdown",
      "metadata": {
        "id": "UV5j_Ix5auLo",
        "colab_type": "text"
      },
      "source": [
        ""
      ]
    },
    {
      "cell_type": "code",
      "metadata": {
        "id": "FZglMHvPIiSM",
        "colab_type": "code",
        "colab": {}
      },
      "source": [
        "matriz_correlacao = dados_fb.corr()"
      ],
      "execution_count": 0,
      "outputs": []
    },
    {
      "cell_type": "code",
      "metadata": {
        "id": "GY_zZvNkIl3T",
        "colab_type": "code",
        "outputId": "562f8c55-af12-47ca-a9af-02b3e82985e2",
        "colab": {
          "base_uri": "https://localhost:8080/",
          "height": 531
        }
      },
      "source": [
        "sb.heatmap(data = matriz_correlacao, annot = True)"
      ],
      "execution_count": 0,
      "outputs": [
        {
          "output_type": "execute_result",
          "data": {
            "text/plain": [
              "<matplotlib.axes._subplots.AxesSubplot at 0x7f0a4d7d62b0>"
            ]
          },
          "metadata": {
            "tags": []
          },
          "execution_count": 9
        },
        {
          "output_type": "display_data",
          "data": {
            "image/png": "[encoded data removed]",
            "text/plain": [
              "<Figure size 432x288 with 2 Axes>"
            ]
          },
          "metadata": {
            "tags": []
          }
        }
      ]
    },
    {
      "cell_type": "markdown",
      "metadata": {
        "id": "oYD6Ef6TgOaS",
        "colab_type": "text"
      },
      "source": [
        "Vamos observar se há uma relação entre as pessoas que receberam e vizualizaram uma postagem e a quantidade de engajamento por tipo de postagem."
      ]
    },
    {
      "cell_type": "code",
      "metadata": {
        "id": "j-EtyzfdTSIm",
        "colab_type": "code",
        "outputId": "d07040cc-f334-4a3c-b071-d35ef1206075",
        "colab": {
          "base_uri": "https://localhost:8080/",
          "height": 448
        }
      },
      "source": [
        "ax = sb.scatterplot(x = 'quantidade de engajamento', y = 'recebeu e visualizou', hue = 'tipo de postagem', data = dados_fb)\n",
        "ax.figure.set_size_inches(12,6)\n",
        "ax.figure.suptitle('Gráfico de Regressão - Total de comentarios x Total de compartilhamento', fontsize = 16)\n",
        "ax"
      ],
      "execution_count": 0,
      "outputs": [
        {
          "output_type": "execute_result",
          "data": {
            "text/plain": [
              "<matplotlib.axes._subplots.AxesSubplot at 0x7f0a49572dd8>"
            ]
          },
          "metadata": {
            "tags": []
          },
          "execution_count": 10
        },
        {
          "output_type": "display_data",
          "data": {
            "image/png": "[encoded data removed]",
            "text/plain": [
              "<Figure size 864x432 with 1 Axes>"
            ]
          },
          "metadata": {
            "tags": []
          }
        }
      ]
    },
    {
      "cell_type": "markdown",
      "metadata": {
        "id": "yRLAvXU9faZ_",
        "colab_type": "text"
      },
      "source": [
        "Ao análisar o gráfico acima, podemos ver que há uma tendencia de ter um menor engajamento quando a postagem é do tipo 3, que são os links. "
      ]
    },
    {
      "cell_type": "markdown",
      "metadata": {
        "id": "U9JdtH5bKzUw",
        "colab_type": "text"
      },
      "source": [
        "## Atividade 2"
      ]
    },
    {
      "cell_type": "markdown",
      "metadata": {
        "id": "ESiPYuQjFnuW",
        "colab_type": "text"
      },
      "source": [
        "Visualizando gráfico de regressão"
      ]
    },
    {
      "cell_type": "markdown",
      "metadata": {
        "id": "xFCHaMWUDkg7",
        "colab_type": "text"
      },
      "source": [
        "A) Número total de comentários como variável alvo.\n",
        "\n",
        "Utilizei a variável 'total de compartilhamentos' como variável independente após analizar o mapa de calor. Podemos ver que há uma correlação próximo de 1 entre o número total de comentários e a total de compartilhamento.Entre eles há uma relação linear positiva."
      ]
    },
    {
      "cell_type": "code",
      "metadata": {
        "id": "A4POwws6kAIn",
        "colab_type": "code",
        "outputId": "bed42a77-ae1f-4412-8929-794561e2e8f6",
        "colab": {
          "base_uri": "https://localhost:8080/",
          "height": 111
        }
      },
      "source": [
        "dados[['total de compartilhamento', 'total de comentarios']].cov()"
      ],
      "execution_count": 0,
      "outputs": [
        {
          "output_type": "execute_result",
          "data": {
            "text/html": [
              "<div>\n",
              "<style scoped>\n",
              "    .dataframe tbody tr th:only-of-type {\n",
              "        vertical-align: middle;\n",
              "    }\n",
              "\n",
              "    .dataframe tbody tr th {\n",
              "        vertical-align: top;\n",
              "    }\n",
              "\n",
              "    .dataframe thead th {\n",
              "        text-align: right;\n",
              "    }\n",
              "</style>\n",
              "<table border=\"1\" class=\"dataframe\">\n",
              "  <thead>\n",
              "    <tr style=\"text-align: right;\">\n",
              "      <th></th>\n",
              "      <th>total de compartilhamento</th>\n",
              "      <th>total de comentarios</th>\n",
              "    </tr>\n",
              "  </thead>\n",
              "  <tbody>\n",
              "    <tr>\n",
              "      <th>total de compartilhamento</th>\n",
              "      <td>1815.892669</td>\n",
              "      <td>786.513962</td>\n",
              "    </tr>\n",
              "    <tr>\n",
              "      <th>total de comentarios</th>\n",
              "      <td>786.513962</td>\n",
              "      <td>448.630938</td>\n",
              "    </tr>\n",
              "  </tbody>\n",
              "</table>\n",
              "</div>"
            ],
            "text/plain": [
              "                           total de compartilhamento  total de comentarios\n",
              "total de compartilhamento                1815.892669            786.513962\n",
              "total de comentarios                      786.513962            448.630938"
            ]
          },
          "metadata": {
            "tags": []
          },
          "execution_count": 11
        }
      ]
    },
    {
      "cell_type": "markdown",
      "metadata": {
        "id": "HZ8IhrQpkQcg",
        "colab_type": "text"
      },
      "source": [
        "associação linear positiva , quando o numero de compartilhamento  aumentar, o numero de comantarios tende a aumentar também. Vamos observar isso no gráfico:"
      ]
    },
    {
      "cell_type": "code",
      "metadata": {
        "id": "tp2qHEo4OxbM",
        "colab_type": "code",
        "outputId": "ad1a4096-5f92-48c2-ce72-d1c840cbb32e",
        "colab": {
          "base_uri": "https://localhost:8080/",
          "height": 456
        }
      },
      "source": [
        "ax = sb.lmplot(x = 'total de compartilhamento', y = 'total de comentarios', data = dados)\n",
        "ax.fig.set_size_inches(12,6)\n",
        "ax.fig.suptitle('Gráfico de Regressão - Total de comentarios x Total de compartilhamento', fontsize = 16)\n",
        "ax.set_xlabels('Total de compartilhamento', fontsize = 14)\n",
        "ax.set_ylabels('Total de comentarios', fontsize = 14)\n",
        "ax"
      ],
      "execution_count": 0,
      "outputs": [
        {
          "output_type": "execute_result",
          "data": {
            "text/plain": [
              "<seaborn.axisgrid.FacetGrid at 0x7f0a47d34b00>"
            ]
          },
          "metadata": {
            "tags": []
          },
          "execution_count": 12
        },
        {
          "output_type": "display_data",
          "data": {
            "image/png": "[encoded data removed]",
            "text/plain": [
              "<Figure size 864x432 with 1 Axes>"
            ]
          },
          "metadata": {
            "tags": []
          }
        }
      ]
    },
    {
      "cell_type": "markdown",
      "metadata": {
        "id": "7xpc7OCekiJL",
        "colab_type": "text"
      },
      "source": [
        "Analisando o resultado da regressão:"
      ]
    },
    {
      "cell_type": "code",
      "metadata": {
        "id": "w09UZ6xr8PSh",
        "colab_type": "code",
        "outputId": "7dde6099-7ca5-482f-a163-04d7731c96bd",
        "colab": {
          "base_uri": "https://localhost:8080/",
          "height": 496
        }
      },
      "source": [
        "\n",
        "y = dados['total de comentarios']\n",
        "x = sm.add_constant(dados['total de compartilhamento'])\n",
        "resultado_regressao = sm.OLS(y, x, missing='drop').fit()\n",
        "print(resultado_regressao.summary())"
      ],
      "execution_count": 0,
      "outputs": [
        {
          "output_type": "stream",
          "text": [
            "                             OLS Regression Results                             \n",
            "================================================================================\n",
            "Dep. Variable:     total de comentarios   R-squared:                       0.754\n",
            "Model:                              OLS   Adj. R-squared:                  0.754\n",
            "Method:                   Least Squares   F-statistic:                     1514.\n",
            "Date:                  Sun, 10 Nov 2019   Prob (F-statistic):          1.49e-152\n",
            "Time:                          18:01:43   Log-Likelihood:                -1871.6\n",
            "No. Observations:                   496   AIC:                             3747.\n",
            "Df Residuals:                       494   BIC:                             3756.\n",
            "Df Model:                             1                                         \n",
            "Covariance Type:              nonrobust                                         \n",
            "=============================================================================================\n",
            "                                coef    std err          t      P>|t|      [0.025      0.975]\n",
            "---------------------------------------------------------------------------------------------\n",
            "const                        -4.2674      0.563     -7.584      0.000      -5.373      -3.162\n",
            "total de compartilhamento     0.4331      0.011     38.913      0.000       0.411       0.455\n",
            "==============================================================================\n",
            "Omnibus:                      360.772   Durbin-Watson:                   1.876\n",
            "Prob(Omnibus):                  0.000   Jarque-Bera (JB):             9562.312\n",
            "Skew:                           2.804   Prob(JB):                         0.00\n",
            "Kurtosis:                      23.766   Cond. No.                         60.0\n",
            "==============================================================================\n",
            "\n",
            "Warnings:\n",
            "[1] Standard Errors assume that the covariance matrix of the errors is correctly specified.\n"
          ],
          "name": "stdout"
        },
        {
          "output_type": "stream",
          "text": [
            "/usr/local/lib/python3.6/dist-packages/numpy/core/fromnumeric.py:2495: FutureWarning: Method .ptp is deprecated and will be removed in a future version. Use numpy.ptp instead.\n",
            "  return ptp(axis=axis, out=out, **kwargs)\n"
          ],
          "name": "stderr"
        }
      ]
    },
    {
      "cell_type": "code",
      "metadata": {
        "id": "ZR60Z6nRMk5a",
        "colab_type": "code",
        "outputId": "1271f909-3e11-4a02-953b-2166aba6991b",
        "colab": {
          "base_uri": "https://localhost:8080/",
          "height": 419
        }
      },
      "source": [
        "amostra = pd.DataFrame(dados.iloc[:, 7])\n",
        "amostra['total de compartilhamento'] = dados.iloc[:, 9 ]\n",
        "amostra = amostra.dropna()\n",
        "amostra['total de comentario previsto'] = resultado_regressao.predict()\n",
        "amostra"
      ],
      "execution_count": 0,
      "outputs": [
        {
          "output_type": "execute_result",
          "data": {
            "text/html": [
              "<div>\n",
              "<style scoped>\n",
              "    .dataframe tbody tr th:only-of-type {\n",
              "        vertical-align: middle;\n",
              "    }\n",
              "\n",
              "    .dataframe tbody tr th {\n",
              "        vertical-align: top;\n",
              "    }\n",
              "\n",
              "    .dataframe thead th {\n",
              "        text-align: right;\n",
              "    }\n",
              "</style>\n",
              "<table border=\"1\" class=\"dataframe\">\n",
              "  <thead>\n",
              "    <tr style=\"text-align: right;\">\n",
              "      <th></th>\n",
              "      <th>total de comentarios</th>\n",
              "      <th>total de compartilhamento</th>\n",
              "      <th>total de comentario previsto</th>\n",
              "    </tr>\n",
              "  </thead>\n",
              "  <tbody>\n",
              "    <tr>\n",
              "      <th>0</th>\n",
              "      <td>4</td>\n",
              "      <td>17.0</td>\n",
              "      <td>3.095791</td>\n",
              "    </tr>\n",
              "    <tr>\n",
              "      <th>1</th>\n",
              "      <td>5</td>\n",
              "      <td>29.0</td>\n",
              "      <td>8.293327</td>\n",
              "    </tr>\n",
              "    <tr>\n",
              "      <th>2</th>\n",
              "      <td>0</td>\n",
              "      <td>14.0</td>\n",
              "      <td>1.796407</td>\n",
              "    </tr>\n",
              "    <tr>\n",
              "      <th>3</th>\n",
              "      <td>58</td>\n",
              "      <td>147.0</td>\n",
              "      <td>59.402431</td>\n",
              "    </tr>\n",
              "    <tr>\n",
              "      <th>4</th>\n",
              "      <td>19</td>\n",
              "      <td>49.0</td>\n",
              "      <td>16.955887</td>\n",
              "    </tr>\n",
              "    <tr>\n",
              "      <th>...</th>\n",
              "      <td>...</td>\n",
              "      <td>...</td>\n",
              "      <td>...</td>\n",
              "    </tr>\n",
              "    <tr>\n",
              "      <th>495</th>\n",
              "      <td>5</td>\n",
              "      <td>26.0</td>\n",
              "      <td>6.993943</td>\n",
              "    </tr>\n",
              "    <tr>\n",
              "      <th>496</th>\n",
              "      <td>0</td>\n",
              "      <td>22.0</td>\n",
              "      <td>5.261431</td>\n",
              "    </tr>\n",
              "    <tr>\n",
              "      <th>497</th>\n",
              "      <td>4</td>\n",
              "      <td>18.0</td>\n",
              "      <td>3.528919</td>\n",
              "    </tr>\n",
              "    <tr>\n",
              "      <th>498</th>\n",
              "      <td>7</td>\n",
              "      <td>38.0</td>\n",
              "      <td>12.191479</td>\n",
              "    </tr>\n",
              "    <tr>\n",
              "      <th>499</th>\n",
              "      <td>0</td>\n",
              "      <td>28.0</td>\n",
              "      <td>7.860199</td>\n",
              "    </tr>\n",
              "  </tbody>\n",
              "</table>\n",
              "<p>496 rows × 3 columns</p>\n",
              "</div>"
            ],
            "text/plain": [
              "     total de comentarios  ...  total de comentario previsto\n",
              "0                       4  ...                      3.095791\n",
              "1                       5  ...                      8.293327\n",
              "2                       0  ...                      1.796407\n",
              "3                      58  ...                     59.402431\n",
              "4                      19  ...                     16.955887\n",
              "..                    ...  ...                           ...\n",
              "495                     5  ...                      6.993943\n",
              "496                     0  ...                      5.261431\n",
              "497                     4  ...                      3.528919\n",
              "498                     7  ...                     12.191479\n",
              "499                     0  ...                      7.860199\n",
              "\n",
              "[496 rows x 3 columns]"
            ]
          },
          "metadata": {
            "tags": []
          },
          "execution_count": 14
        }
      ]
    },
    {
      "cell_type": "markdown",
      "metadata": {
        "id": "Hso8QvxMjn1h",
        "colab_type": "text"
      },
      "source": [
        "Conseguimos um bom resultado ao prever o total de comentários pelo total de compartilhamento"
      ]
    },
    {
      "cell_type": "markdown",
      "metadata": {
        "colab_type": "text",
        "id": "MecEzP4lzwu2"
      },
      "source": [
        "Vamos observar agora a acuracia através dos resíduos"
      ]
    },
    {
      "cell_type": "code",
      "metadata": {
        "colab_type": "code",
        "outputId": "ed41d8fe-4141-42ee-8513-5acf4a0c7f3a",
        "id": "4OWNJpGozwu7",
        "colab": {
          "base_uri": "https://localhost:8080/",
          "height": 514
        }
      },
      "source": [
        "amostra['Residuos'] = resultado_regressao.resid\n",
        "amostra.head(15)"
      ],
      "execution_count": 0,
      "outputs": [
        {
          "output_type": "execute_result",
          "data": {
            "text/html": [
              "<div>\n",
              "<style scoped>\n",
              "    .dataframe tbody tr th:only-of-type {\n",
              "        vertical-align: middle;\n",
              "    }\n",
              "\n",
              "    .dataframe tbody tr th {\n",
              "        vertical-align: top;\n",
              "    }\n",
              "\n",
              "    .dataframe thead th {\n",
              "        text-align: right;\n",
              "    }\n",
              "</style>\n",
              "<table border=\"1\" class=\"dataframe\">\n",
              "  <thead>\n",
              "    <tr style=\"text-align: right;\">\n",
              "      <th></th>\n",
              "      <th>total de comentarios</th>\n",
              "      <th>total de compartilhamento</th>\n",
              "      <th>total de comentario previsto</th>\n",
              "      <th>Residuos</th>\n",
              "    </tr>\n",
              "  </thead>\n",
              "  <tbody>\n",
              "    <tr>\n",
              "      <th>0</th>\n",
              "      <td>4</td>\n",
              "      <td>17.0</td>\n",
              "      <td>3.095791</td>\n",
              "      <td>0.904209</td>\n",
              "    </tr>\n",
              "    <tr>\n",
              "      <th>1</th>\n",
              "      <td>5</td>\n",
              "      <td>29.0</td>\n",
              "      <td>8.293327</td>\n",
              "      <td>-3.293327</td>\n",
              "    </tr>\n",
              "    <tr>\n",
              "      <th>2</th>\n",
              "      <td>0</td>\n",
              "      <td>14.0</td>\n",
              "      <td>1.796407</td>\n",
              "      <td>-1.796407</td>\n",
              "    </tr>\n",
              "    <tr>\n",
              "      <th>3</th>\n",
              "      <td>58</td>\n",
              "      <td>147.0</td>\n",
              "      <td>59.402431</td>\n",
              "      <td>-1.402431</td>\n",
              "    </tr>\n",
              "    <tr>\n",
              "      <th>4</th>\n",
              "      <td>19</td>\n",
              "      <td>49.0</td>\n",
              "      <td>16.955887</td>\n",
              "      <td>2.044113</td>\n",
              "    </tr>\n",
              "    <tr>\n",
              "      <th>5</th>\n",
              "      <td>1</td>\n",
              "      <td>33.0</td>\n",
              "      <td>10.025839</td>\n",
              "      <td>-9.025839</td>\n",
              "    </tr>\n",
              "    <tr>\n",
              "      <th>6</th>\n",
              "      <td>3</td>\n",
              "      <td>27.0</td>\n",
              "      <td>7.427071</td>\n",
              "      <td>-4.427071</td>\n",
              "    </tr>\n",
              "    <tr>\n",
              "      <th>7</th>\n",
              "      <td>0</td>\n",
              "      <td>14.0</td>\n",
              "      <td>1.796407</td>\n",
              "      <td>-1.796407</td>\n",
              "    </tr>\n",
              "    <tr>\n",
              "      <th>8</th>\n",
              "      <td>0</td>\n",
              "      <td>31.0</td>\n",
              "      <td>9.159583</td>\n",
              "      <td>-9.159583</td>\n",
              "    </tr>\n",
              "    <tr>\n",
              "      <th>9</th>\n",
              "      <td>3</td>\n",
              "      <td>26.0</td>\n",
              "      <td>6.993943</td>\n",
              "      <td>-3.993943</td>\n",
              "    </tr>\n",
              "    <tr>\n",
              "      <th>10</th>\n",
              "      <td>0</td>\n",
              "      <td>19.0</td>\n",
              "      <td>3.962047</td>\n",
              "      <td>-3.962047</td>\n",
              "    </tr>\n",
              "    <tr>\n",
              "      <th>11</th>\n",
              "      <td>0</td>\n",
              "      <td>18.0</td>\n",
              "      <td>3.528919</td>\n",
              "      <td>-3.528919</td>\n",
              "    </tr>\n",
              "    <tr>\n",
              "      <th>12</th>\n",
              "      <td>0</td>\n",
              "      <td>14.0</td>\n",
              "      <td>1.796407</td>\n",
              "      <td>-1.796407</td>\n",
              "    </tr>\n",
              "    <tr>\n",
              "      <th>13</th>\n",
              "      <td>5</td>\n",
              "      <td>10.0</td>\n",
              "      <td>0.063895</td>\n",
              "      <td>4.936105</td>\n",
              "    </tr>\n",
              "    <tr>\n",
              "      <th>14</th>\n",
              "      <td>2</td>\n",
              "      <td>20.0</td>\n",
              "      <td>4.395175</td>\n",
              "      <td>-2.395175</td>\n",
              "    </tr>\n",
              "  </tbody>\n",
              "</table>\n",
              "</div>"
            ],
            "text/plain": [
              "    total de comentarios  ...  Residuos\n",
              "0                      4  ...  0.904209\n",
              "1                      5  ... -3.293327\n",
              "2                      0  ... -1.796407\n",
              "3                     58  ... -1.402431\n",
              "4                     19  ...  2.044113\n",
              "5                      1  ... -9.025839\n",
              "6                      3  ... -4.427071\n",
              "7                      0  ... -1.796407\n",
              "8                      0  ... -9.159583\n",
              "9                      3  ... -3.993943\n",
              "10                     0  ... -3.962047\n",
              "11                     0  ... -3.528919\n",
              "12                     0  ... -1.796407\n",
              "13                     5  ...  4.936105\n",
              "14                     2  ... -2.395175\n",
              "\n",
              "[15 rows x 4 columns]"
            ]
          },
          "metadata": {
            "tags": []
          },
          "execution_count": 15
        }
      ]
    },
    {
      "cell_type": "code",
      "metadata": {
        "colab_type": "code",
        "outputId": "0c681150-f010-4f4a-92ae-dd5fad80fefc",
        "id": "IO26gYP-zwvL",
        "colab": {
          "base_uri": "https://localhost:8080/",
          "height": 170
        }
      },
      "source": [
        "amostra.Residuos.describe()"
      ],
      "execution_count": 0,
      "outputs": [
        {
          "output_type": "execute_result",
          "data": {
            "text/plain": [
              "count    4.960000e+02\n",
              "mean     1.095360e-14\n",
              "std      1.054225e+01\n",
              "min     -4.214110e+01\n",
              "25%     -4.435045e+00\n",
              "50%     -4.970228e-01\n",
              "75%      3.401129e+00\n",
              "max      9.297416e+01\n",
              "Name: Residuos, dtype: float64"
            ]
          },
          "metadata": {
            "tags": []
          },
          "execution_count": 16
        }
      ]
    },
    {
      "cell_type": "markdown",
      "metadata": {
        "id": "IJE0cbjmlDo4",
        "colab_type": "text"
      },
      "source": [
        "B) Número total de Likes como variável alvo.\n",
        "\n",
        "Utilizei a variável 'total de compartilhamentos' como variável independente após analizar o mapa de calor. Podemos ver que há uma correlação próximo de 1 entre o número total de comentários e a total de compartilhamento.Entre eles há uma relação linear positiva."
      ]
    },
    {
      "cell_type": "code",
      "metadata": {
        "id": "HkhOnvOVmWgy",
        "colab_type": "code",
        "outputId": "84d877fa-6212-4948-e9e1-aafaa9e4686c",
        "colab": {
          "base_uri": "https://localhost:8080/",
          "height": 111
        }
      },
      "source": [
        "dados[['total de compartilhamento', 'total de likes']].cov()"
      ],
      "execution_count": 0,
      "outputs": [
        {
          "output_type": "execute_result",
          "data": {
            "text/html": [
              "<div>\n",
              "<style scoped>\n",
              "    .dataframe tbody tr th:only-of-type {\n",
              "        vertical-align: middle;\n",
              "    }\n",
              "\n",
              "    .dataframe tbody tr th {\n",
              "        vertical-align: top;\n",
              "    }\n",
              "\n",
              "    .dataframe thead th {\n",
              "        text-align: right;\n",
              "    }\n",
              "</style>\n",
              "<table border=\"1\" class=\"dataframe\">\n",
              "  <thead>\n",
              "    <tr style=\"text-align: right;\">\n",
              "      <th></th>\n",
              "      <th>total de compartilhamento</th>\n",
              "      <th>total de likes</th>\n",
              "    </tr>\n",
              "  </thead>\n",
              "  <tbody>\n",
              "    <tr>\n",
              "      <th>total de compartilhamento</th>\n",
              "      <td>1815.892669</td>\n",
              "      <td>12485.824764</td>\n",
              "    </tr>\n",
              "    <tr>\n",
              "      <th>total de likes</th>\n",
              "      <td>12485.824764</td>\n",
              "      <td>104586.746062</td>\n",
              "    </tr>\n",
              "  </tbody>\n",
              "</table>\n",
              "</div>"
            ],
            "text/plain": [
              "                           total de compartilhamento  total de likes\n",
              "total de compartilhamento                1815.892669    12485.824764\n",
              "total de likes                          12485.824764   104586.746062"
            ]
          },
          "metadata": {
            "tags": []
          },
          "execution_count": 17
        }
      ]
    },
    {
      "cell_type": "markdown",
      "metadata": {
        "id": "nNPg3P4Lmekq",
        "colab_type": "text"
      },
      "source": [
        "Entre eles há um associação linear positiva.\n",
        "\n",
        "Visualizaremos no gráfico a seguir:"
      ]
    },
    {
      "cell_type": "code",
      "metadata": {
        "id": "8wBabJvmO56m",
        "colab_type": "code",
        "outputId": "79730cad-9d73-414b-d8fd-ff5c60fa4cc1",
        "colab": {
          "base_uri": "https://localhost:8080/",
          "height": 456
        }
      },
      "source": [
        "ax = sb.lmplot(x = 'total de compartilhamento', y = 'total de likes', data = dados)\n",
        "ax.fig.set_size_inches(12,6)\n",
        "ax.fig.suptitle('Gráfico de Regressão - total de likes x Total de compartilhamento', fontsize = 16)\n",
        "ax.set_xlabels('Total de compartilhamento', fontsize = 14)\n",
        "ax.set_ylabels('Total de likes', fontsize = 14)\n",
        "ax"
      ],
      "execution_count": 0,
      "outputs": [
        {
          "output_type": "execute_result",
          "data": {
            "text/plain": [
              "<seaborn.axisgrid.FacetGrid at 0x7f0a47cd66a0>"
            ]
          },
          "metadata": {
            "tags": []
          },
          "execution_count": 18
        },
        {
          "output_type": "display_data",
          "data": {
            "image/png": "[encoded data removed]",
            "text/plain": [
              "<Figure size 864x432 with 1 Axes>"
            ]
          },
          "metadata": {
            "tags": []
          }
        }
      ]
    },
    {
      "cell_type": "code",
      "metadata": {
        "id": "PpGf3FrQCOSq",
        "colab_type": "code",
        "outputId": "d480a74c-6876-46c5-ad22-3b717d093216",
        "colab": {
          "base_uri": "https://localhost:8080/",
          "height": 496
        }
      },
      "source": [
        "y = dados['total de likes']\n",
        "x = sm.add_constant(dados['total de compartilhamento'])\n",
        "resultado_regressao = sm.OLS(y, x, missing='drop').fit()\n",
        "print(resultado_regressao.summary())"
      ],
      "execution_count": 0,
      "outputs": [
        {
          "output_type": "stream",
          "text": [
            "                            OLS Regression Results                            \n",
            "==============================================================================\n",
            "Dep. Variable:         total de likes   R-squared:                       0.817\n",
            "Model:                            OLS   Adj. R-squared:                  0.817\n",
            "Method:                 Least Squares   F-statistic:                     2209.\n",
            "Date:                Sun, 10 Nov 2019   Prob (F-statistic):          1.85e-184\n",
            "Time:                        18:01:44   Log-Likelihood:                -3149.2\n",
            "No. Observations:                 496   AIC:                             6302.\n",
            "Df Residuals:                     494   BIC:                             6311.\n",
            "Df Model:                           1                                         \n",
            "Covariance Type:            nonrobust                                         \n",
            "=============================================================================================\n",
            "                                coef    std err          t      P>|t|      [0.025      0.975]\n",
            "---------------------------------------------------------------------------------------------\n",
            "const                        -8.5104      7.395     -1.151      0.250     -23.040       6.019\n",
            "total de compartilhamento     6.8759      0.146     47.004      0.000       6.588       7.163\n",
            "==============================================================================\n",
            "Omnibus:                      407.677   Durbin-Watson:                   1.857\n",
            "Prob(Omnibus):                  0.000   Jarque-Bera (JB):            10847.491\n",
            "Skew:                           3.391   Prob(JB):                         0.00\n",
            "Kurtosis:                      24.884   Cond. No.                         60.0\n",
            "==============================================================================\n",
            "\n",
            "Warnings:\n",
            "[1] Standard Errors assume that the covariance matrix of the errors is correctly specified.\n"
          ],
          "name": "stdout"
        },
        {
          "output_type": "stream",
          "text": [
            "/usr/local/lib/python3.6/dist-packages/numpy/core/fromnumeric.py:2495: FutureWarning: Method .ptp is deprecated and will be removed in a future version. Use numpy.ptp instead.\n",
            "  return ptp(axis=axis, out=out, **kwargs)\n"
          ],
          "name": "stderr"
        }
      ]
    },
    {
      "cell_type": "code",
      "metadata": {
        "id": "7e91vj9QS-Va",
        "colab_type": "code",
        "outputId": "0e615a2e-bfbc-495c-d887-019e22afb477",
        "colab": {
          "base_uri": "https://localhost:8080/",
          "height": 204
        }
      },
      "source": [
        "amostrab = pd.DataFrame(dados.iloc[:, 8])\n",
        "amostrab['total de compartilhamento'] = dados.iloc[:, 9 ]\n",
        "amostrab = amostrab.dropna()\n",
        "amostrab['total de likes previsto'] = resultado_regressao.predict()\n",
        "amostrab.head()"
      ],
      "execution_count": 0,
      "outputs": [
        {
          "output_type": "execute_result",
          "data": {
            "text/html": [
              "<div>\n",
              "<style scoped>\n",
              "    .dataframe tbody tr th:only-of-type {\n",
              "        vertical-align: middle;\n",
              "    }\n",
              "\n",
              "    .dataframe tbody tr th {\n",
              "        vertical-align: top;\n",
              "    }\n",
              "\n",
              "    .dataframe thead th {\n",
              "        text-align: right;\n",
              "    }\n",
              "</style>\n",
              "<table border=\"1\" class=\"dataframe\">\n",
              "  <thead>\n",
              "    <tr style=\"text-align: right;\">\n",
              "      <th></th>\n",
              "      <th>total de likes</th>\n",
              "      <th>total de compartilhamento</th>\n",
              "      <th>total de likes previsto</th>\n",
              "    </tr>\n",
              "  </thead>\n",
              "  <tbody>\n",
              "    <tr>\n",
              "      <th>0</th>\n",
              "      <td>79.0</td>\n",
              "      <td>17.0</td>\n",
              "      <td>108.379270</td>\n",
              "    </tr>\n",
              "    <tr>\n",
              "      <th>1</th>\n",
              "      <td>130.0</td>\n",
              "      <td>29.0</td>\n",
              "      <td>190.889597</td>\n",
              "    </tr>\n",
              "    <tr>\n",
              "      <th>2</th>\n",
              "      <td>66.0</td>\n",
              "      <td>14.0</td>\n",
              "      <td>87.751689</td>\n",
              "    </tr>\n",
              "    <tr>\n",
              "      <th>3</th>\n",
              "      <td>1572.0</td>\n",
              "      <td>147.0</td>\n",
              "      <td>1002.241142</td>\n",
              "    </tr>\n",
              "    <tr>\n",
              "      <th>4</th>\n",
              "      <td>325.0</td>\n",
              "      <td>49.0</td>\n",
              "      <td>328.406808</td>\n",
              "    </tr>\n",
              "  </tbody>\n",
              "</table>\n",
              "</div>"
            ],
            "text/plain": [
              "   total de likes  total de compartilhamento  total de likes previsto\n",
              "0            79.0                       17.0               108.379270\n",
              "1           130.0                       29.0               190.889597\n",
              "2            66.0                       14.0                87.751689\n",
              "3          1572.0                      147.0              1002.241142\n",
              "4           325.0                       49.0               328.406808"
            ]
          },
          "metadata": {
            "tags": []
          },
          "execution_count": 20
        }
      ]
    },
    {
      "cell_type": "markdown",
      "metadata": {
        "id": "kbDEdOwpm11h",
        "colab_type": "text"
      },
      "source": [
        "Os resultados da previsão de likes não são tem um erro maior do que na questão A, mas ainda são satisfatórios."
      ]
    },
    {
      "cell_type": "markdown",
      "metadata": {
        "colab_type": "text",
        "id": "nbmTadnLzefh"
      },
      "source": [
        "Vamos observar agora a acuracia através dos resíduos"
      ]
    },
    {
      "cell_type": "code",
      "metadata": {
        "colab_type": "code",
        "outputId": "e67e0855-4796-433e-fbda-50ef9d16f4a4",
        "id": "wUydqsMSzefo",
        "colab": {
          "base_uri": "https://localhost:8080/",
          "height": 514
        }
      },
      "source": [
        "amostrab['Residuos'] = resultado_regressao.resid\n",
        "amostrab.head(15)"
      ],
      "execution_count": 0,
      "outputs": [
        {
          "output_type": "execute_result",
          "data": {
            "text/html": [
              "<div>\n",
              "<style scoped>\n",
              "    .dataframe tbody tr th:only-of-type {\n",
              "        vertical-align: middle;\n",
              "    }\n",
              "\n",
              "    .dataframe tbody tr th {\n",
              "        vertical-align: top;\n",
              "    }\n",
              "\n",
              "    .dataframe thead th {\n",
              "        text-align: right;\n",
              "    }\n",
              "</style>\n",
              "<table border=\"1\" class=\"dataframe\">\n",
              "  <thead>\n",
              "    <tr style=\"text-align: right;\">\n",
              "      <th></th>\n",
              "      <th>total de likes</th>\n",
              "      <th>total de compartilhamento</th>\n",
              "      <th>total de likes previsto</th>\n",
              "      <th>Residuos</th>\n",
              "    </tr>\n",
              "  </thead>\n",
              "  <tbody>\n",
              "    <tr>\n",
              "      <th>0</th>\n",
              "      <td>79.0</td>\n",
              "      <td>17.0</td>\n",
              "      <td>108.379270</td>\n",
              "      <td>-29.379270</td>\n",
              "    </tr>\n",
              "    <tr>\n",
              "      <th>1</th>\n",
              "      <td>130.0</td>\n",
              "      <td>29.0</td>\n",
              "      <td>190.889597</td>\n",
              "      <td>-60.889597</td>\n",
              "    </tr>\n",
              "    <tr>\n",
              "      <th>2</th>\n",
              "      <td>66.0</td>\n",
              "      <td>14.0</td>\n",
              "      <td>87.751689</td>\n",
              "      <td>-21.751689</td>\n",
              "    </tr>\n",
              "    <tr>\n",
              "      <th>3</th>\n",
              "      <td>1572.0</td>\n",
              "      <td>147.0</td>\n",
              "      <td>1002.241142</td>\n",
              "      <td>569.758858</td>\n",
              "    </tr>\n",
              "    <tr>\n",
              "      <th>4</th>\n",
              "      <td>325.0</td>\n",
              "      <td>49.0</td>\n",
              "      <td>328.406808</td>\n",
              "      <td>-3.406808</td>\n",
              "    </tr>\n",
              "    <tr>\n",
              "      <th>5</th>\n",
              "      <td>152.0</td>\n",
              "      <td>33.0</td>\n",
              "      <td>218.393039</td>\n",
              "      <td>-66.393039</td>\n",
              "    </tr>\n",
              "    <tr>\n",
              "      <th>6</th>\n",
              "      <td>249.0</td>\n",
              "      <td>27.0</td>\n",
              "      <td>177.137876</td>\n",
              "      <td>71.862124</td>\n",
              "    </tr>\n",
              "    <tr>\n",
              "      <th>7</th>\n",
              "      <td>325.0</td>\n",
              "      <td>14.0</td>\n",
              "      <td>87.751689</td>\n",
              "      <td>237.248311</td>\n",
              "    </tr>\n",
              "    <tr>\n",
              "      <th>8</th>\n",
              "      <td>161.0</td>\n",
              "      <td>31.0</td>\n",
              "      <td>204.641318</td>\n",
              "      <td>-43.641318</td>\n",
              "    </tr>\n",
              "    <tr>\n",
              "      <th>9</th>\n",
              "      <td>113.0</td>\n",
              "      <td>26.0</td>\n",
              "      <td>170.262015</td>\n",
              "      <td>-57.262015</td>\n",
              "    </tr>\n",
              "    <tr>\n",
              "      <th>10</th>\n",
              "      <td>233.0</td>\n",
              "      <td>19.0</td>\n",
              "      <td>122.130991</td>\n",
              "      <td>110.869009</td>\n",
              "    </tr>\n",
              "    <tr>\n",
              "      <th>11</th>\n",
              "      <td>88.0</td>\n",
              "      <td>18.0</td>\n",
              "      <td>115.255131</td>\n",
              "      <td>-27.255131</td>\n",
              "    </tr>\n",
              "    <tr>\n",
              "      <th>12</th>\n",
              "      <td>90.0</td>\n",
              "      <td>14.0</td>\n",
              "      <td>87.751689</td>\n",
              "      <td>2.248311</td>\n",
              "    </tr>\n",
              "    <tr>\n",
              "      <th>13</th>\n",
              "      <td>137.0</td>\n",
              "      <td>10.0</td>\n",
              "      <td>60.248246</td>\n",
              "      <td>76.751754</td>\n",
              "    </tr>\n",
              "    <tr>\n",
              "      <th>14</th>\n",
              "      <td>577.0</td>\n",
              "      <td>20.0</td>\n",
              "      <td>129.006852</td>\n",
              "      <td>447.993148</td>\n",
              "    </tr>\n",
              "  </tbody>\n",
              "</table>\n",
              "</div>"
            ],
            "text/plain": [
              "    total de likes  ...    Residuos\n",
              "0             79.0  ...  -29.379270\n",
              "1            130.0  ...  -60.889597\n",
              "2             66.0  ...  -21.751689\n",
              "3           1572.0  ...  569.758858\n",
              "4            325.0  ...   -3.406808\n",
              "5            152.0  ...  -66.393039\n",
              "6            249.0  ...   71.862124\n",
              "7            325.0  ...  237.248311\n",
              "8            161.0  ...  -43.641318\n",
              "9            113.0  ...  -57.262015\n",
              "10           233.0  ...  110.869009\n",
              "11            88.0  ...  -27.255131\n",
              "12            90.0  ...    2.248311\n",
              "13           137.0  ...   76.751754\n",
              "14           577.0  ...  447.993148\n",
              "\n",
              "[15 rows x 4 columns]"
            ]
          },
          "metadata": {
            "tags": []
          },
          "execution_count": 21
        }
      ]
    },
    {
      "cell_type": "code",
      "metadata": {
        "colab_type": "code",
        "outputId": "3ff8d69b-5b18-43dc-bad4-d4a9ec6aa7d3",
        "id": "Ny0yMnZnzefv",
        "colab": {
          "base_uri": "https://localhost:8080/",
          "height": 170
        }
      },
      "source": [
        "amostrab.Residuos.describe()"
      ],
      "execution_count": 0,
      "outputs": [
        {
          "output_type": "execute_result",
          "data": {
            "text/plain": [
              "count    4.960000e+02\n",
              "mean     1.260640e-13\n",
              "std      1.385479e+02\n",
              "min     -4.784688e+02\n",
              "25%     -4.974303e+01\n",
              "50%     -1.168618e+01\n",
              "75%      1.735524e+01\n",
              "max      1.126400e+03\n",
              "Name: Residuos, dtype: float64"
            ]
          },
          "metadata": {
            "tags": []
          },
          "execution_count": 22
        }
      ]
    },
    {
      "cell_type": "markdown",
      "metadata": {
        "id": "enjbk_TOnEBk",
        "colab_type": "text"
      },
      "source": [
        "D) Número total de iterações como variável alvo.\n",
        "\n",
        "Utilizei a variável 'total de compartilhamentos' como variável independente após analizar o mapa de calor. Podemos ver que há uma correlação próximo de 1 entre o número total de comentários e a total de compartilhamento."
      ]
    },
    {
      "cell_type": "code",
      "metadata": {
        "id": "XwzJDCjXosZn",
        "colab_type": "code",
        "outputId": "d43b015f-492e-4c91-d429-6cb832d1ff25",
        "colab": {
          "base_uri": "https://localhost:8080/",
          "height": 111
        }
      },
      "source": [
        "dados[['total de interacoes', 'total de compartilhamento']].cov()"
      ],
      "execution_count": 0,
      "outputs": [
        {
          "output_type": "execute_result",
          "data": {
            "text/html": [
              "<div>\n",
              "<style scoped>\n",
              "    .dataframe tbody tr th:only-of-type {\n",
              "        vertical-align: middle;\n",
              "    }\n",
              "\n",
              "    .dataframe tbody tr th {\n",
              "        vertical-align: top;\n",
              "    }\n",
              "\n",
              "    .dataframe thead th {\n",
              "        text-align: right;\n",
              "    }\n",
              "</style>\n",
              "<table border=\"1\" class=\"dataframe\">\n",
              "  <thead>\n",
              "    <tr style=\"text-align: right;\">\n",
              "      <th></th>\n",
              "      <th>total de interacoes</th>\n",
              "      <th>total de compartilhamento</th>\n",
              "    </tr>\n",
              "  </thead>\n",
              "  <tbody>\n",
              "    <tr>\n",
              "      <th>total de interacoes</th>\n",
              "      <td>144577.224048</td>\n",
              "      <td>15088.231395</td>\n",
              "    </tr>\n",
              "    <tr>\n",
              "      <th>total de compartilhamento</th>\n",
              "      <td>15088.231395</td>\n",
              "      <td>1815.892669</td>\n",
              "    </tr>\n",
              "  </tbody>\n",
              "</table>\n",
              "</div>"
            ],
            "text/plain": [
              "                           total de interacoes  total de compartilhamento\n",
              "total de interacoes              144577.224048               15088.231395\n",
              "total de compartilhamento         15088.231395                1815.892669"
            ]
          },
          "metadata": {
            "tags": []
          },
          "execution_count": 23
        }
      ]
    },
    {
      "cell_type": "markdown",
      "metadata": {
        "id": "cajxXxz2o09S",
        "colab_type": "text"
      },
      "source": [
        "Entre eles há uma relação linear positiva, como podemos ver no gráfico abaixo:"
      ]
    },
    {
      "cell_type": "code",
      "metadata": {
        "id": "Y1XaKe55PPjo",
        "colab_type": "code",
        "outputId": "4a695913-c7cd-4e94-9057-97947f06db87",
        "colab": {
          "base_uri": "https://localhost:8080/",
          "height": 456
        }
      },
      "source": [
        "ax = sb.lmplot(x = 'total de interacoes', y = 'total de compartilhamento', data = dados)\n",
        "ax.fig.set_size_inches(12,6)\n",
        "ax.fig.suptitle('Gráfico de Regressão - total de iterações x Total de compartilhamento', fontsize = 16)\n",
        "ax.set_xlabels('Total de compartilhamento', fontsize = 14)\n",
        "ax.set_ylabels('Total de iterações', fontsize = 14)\n",
        "ax"
      ],
      "execution_count": 0,
      "outputs": [
        {
          "output_type": "execute_result",
          "data": {
            "text/plain": [
              "<seaborn.axisgrid.FacetGrid at 0x7f0a47cc1cc0>"
            ]
          },
          "metadata": {
            "tags": []
          },
          "execution_count": 24
        },
        {
          "output_type": "display_data",
          "data": {
            "image/png": "[encoded data removed]",
            "text/plain": [
              "<Figure size 864x432 with 1 Axes>"
            ]
          },
          "metadata": {
            "tags": []
          }
        }
      ]
    },
    {
      "cell_type": "markdown",
      "metadata": {
        "id": "JgmZcIaDsSyl",
        "colab_type": "text"
      },
      "source": [
        "Agora, vamos fazer o treinamento da base para prever o total de interações a partir do total de compartilhamento."
      ]
    },
    {
      "cell_type": "code",
      "metadata": {
        "id": "EO9envs-CbWA",
        "colab_type": "code",
        "outputId": "4dfe754b-e41e-46ed-bdf6-99504dbf3700",
        "colab": {
          "base_uri": "https://localhost:8080/",
          "height": 496
        }
      },
      "source": [
        "y = dados['total de interacoes']\n",
        "x = sm.add_constant(dados['total de compartilhamento'])\n",
        "resultado_regressao = sm.OLS(y, x, missing='drop').fit()\n",
        "print(resultado_regressao.summary())"
      ],
      "execution_count": 0,
      "outputs": [
        {
          "output_type": "stream",
          "text": [
            "                             OLS Regression Results                            \n",
            "===============================================================================\n",
            "Dep. Variable:     total de interacoes   R-squared:                       0.862\n",
            "Model:                             OLS   Adj. R-squared:                  0.862\n",
            "Method:                  Least Squares   F-statistic:                     3091.\n",
            "Date:                 Sun, 10 Nov 2019   Prob (F-statistic):          9.27e-215\n",
            "Time:                         18:01:45   Log-Likelihood:                -3159.8\n",
            "No. Observations:                  496   AIC:                             6324.\n",
            "Df Residuals:                      494   BIC:                             6332.\n",
            "Df Model:                            1                                         \n",
            "Covariance Type:             nonrobust                                         \n",
            "=============================================================================================\n",
            "                                coef    std err          t      P>|t|      [0.025      0.975]\n",
            "---------------------------------------------------------------------------------------------\n",
            "const                       -12.7777      7.555     -1.691      0.091     -27.621       2.066\n",
            "total de compartilhamento     8.3090      0.149     55.600      0.000       8.015       8.603\n",
            "==============================================================================\n",
            "Omnibus:                      384.841   Durbin-Watson:                   1.848\n",
            "Prob(Omnibus):                  0.000   Jarque-Bera (JB):             9147.931\n",
            "Skew:                           3.145   Prob(JB):                         0.00\n",
            "Kurtosis:                      23.077   Cond. No.                         60.0\n",
            "==============================================================================\n",
            "\n",
            "Warnings:\n",
            "[1] Standard Errors assume that the covariance matrix of the errors is correctly specified.\n"
          ],
          "name": "stdout"
        },
        {
          "output_type": "stream",
          "text": [
            "/usr/local/lib/python3.6/dist-packages/numpy/core/fromnumeric.py:2495: FutureWarning: Method .ptp is deprecated and will be removed in a future version. Use numpy.ptp instead.\n",
            "  return ptp(axis=axis, out=out, **kwargs)\n"
          ],
          "name": "stderr"
        }
      ]
    },
    {
      "cell_type": "code",
      "metadata": {
        "id": "sau0m4gWTvaZ",
        "colab_type": "code",
        "outputId": "0acfbc1d-3616-46d8-bd84-753bb8781310",
        "colab": {
          "base_uri": "https://localhost:8080/",
          "height": 204
        }
      },
      "source": [
        "amostrac = pd.DataFrame(dados.iloc[:, 9])\n",
        "amostrac['total de iterações'] = dados.iloc[:, 10]\n",
        "amostrac = amostrac.dropna()\n",
        "amostrac['total de iterações previsto'] = resultado_regressao.predict()\n",
        "amostrac.head()"
      ],
      "execution_count": 0,
      "outputs": [
        {
          "output_type": "execute_result",
          "data": {
            "text/html": [
              "<div>\n",
              "<style scoped>\n",
              "    .dataframe tbody tr th:only-of-type {\n",
              "        vertical-align: middle;\n",
              "    }\n",
              "\n",
              "    .dataframe tbody tr th {\n",
              "        vertical-align: top;\n",
              "    }\n",
              "\n",
              "    .dataframe thead th {\n",
              "        text-align: right;\n",
              "    }\n",
              "</style>\n",
              "<table border=\"1\" class=\"dataframe\">\n",
              "  <thead>\n",
              "    <tr style=\"text-align: right;\">\n",
              "      <th></th>\n",
              "      <th>total de compartilhamento</th>\n",
              "      <th>total de iterações</th>\n",
              "      <th>total de iterações previsto</th>\n",
              "    </tr>\n",
              "  </thead>\n",
              "  <tbody>\n",
              "    <tr>\n",
              "      <th>0</th>\n",
              "      <td>17.0</td>\n",
              "      <td>100</td>\n",
              "      <td>128.475061</td>\n",
              "    </tr>\n",
              "    <tr>\n",
              "      <th>1</th>\n",
              "      <td>29.0</td>\n",
              "      <td>164</td>\n",
              "      <td>228.182924</td>\n",
              "    </tr>\n",
              "    <tr>\n",
              "      <th>2</th>\n",
              "      <td>14.0</td>\n",
              "      <td>80</td>\n",
              "      <td>103.548095</td>\n",
              "    </tr>\n",
              "    <tr>\n",
              "      <th>3</th>\n",
              "      <td>147.0</td>\n",
              "      <td>1777</td>\n",
              "      <td>1208.643573</td>\n",
              "    </tr>\n",
              "    <tr>\n",
              "      <th>4</th>\n",
              "      <td>49.0</td>\n",
              "      <td>393</td>\n",
              "      <td>394.362695</td>\n",
              "    </tr>\n",
              "  </tbody>\n",
              "</table>\n",
              "</div>"
            ],
            "text/plain": [
              "   total de compartilhamento  total de iterações  total de iterações previsto\n",
              "0                       17.0                 100                   128.475061\n",
              "1                       29.0                 164                   228.182924\n",
              "2                       14.0                  80                   103.548095\n",
              "3                      147.0                1777                  1208.643573\n",
              "4                       49.0                 393                   394.362695"
            ]
          },
          "metadata": {
            "tags": []
          },
          "execution_count": 26
        }
      ]
    },
    {
      "cell_type": "markdown",
      "metadata": {
        "id": "U5jVi-37zQIw",
        "colab_type": "text"
      },
      "source": [
        "Vamos observar agora a acuracia através dos resíduos"
      ]
    },
    {
      "cell_type": "code",
      "metadata": {
        "id": "eY8m-d94VwSq",
        "colab_type": "code",
        "outputId": "222a9d5f-8a4c-4cea-e50d-345cfd7cf822",
        "colab": {
          "base_uri": "https://localhost:8080/",
          "height": 514
        }
      },
      "source": [
        "amostrac['Residuos'] = resultado_regressao.resid\n",
        "amostrac.head(15)"
      ],
      "execution_count": 0,
      "outputs": [
        {
          "output_type": "execute_result",
          "data": {
            "text/html": [
              "<div>\n",
              "<style scoped>\n",
              "    .dataframe tbody tr th:only-of-type {\n",
              "        vertical-align: middle;\n",
              "    }\n",
              "\n",
              "    .dataframe tbody tr th {\n",
              "        vertical-align: top;\n",
              "    }\n",
              "\n",
              "    .dataframe thead th {\n",
              "        text-align: right;\n",
              "    }\n",
              "</style>\n",
              "<table border=\"1\" class=\"dataframe\">\n",
              "  <thead>\n",
              "    <tr style=\"text-align: right;\">\n",
              "      <th></th>\n",
              "      <th>total de compartilhamento</th>\n",
              "      <th>total de iterações</th>\n",
              "      <th>total de iterações previsto</th>\n",
              "      <th>Residuos</th>\n",
              "    </tr>\n",
              "  </thead>\n",
              "  <tbody>\n",
              "    <tr>\n",
              "      <th>0</th>\n",
              "      <td>17.0</td>\n",
              "      <td>100</td>\n",
              "      <td>128.475061</td>\n",
              "      <td>-28.475061</td>\n",
              "    </tr>\n",
              "    <tr>\n",
              "      <th>1</th>\n",
              "      <td>29.0</td>\n",
              "      <td>164</td>\n",
              "      <td>228.182924</td>\n",
              "      <td>-64.182924</td>\n",
              "    </tr>\n",
              "    <tr>\n",
              "      <th>2</th>\n",
              "      <td>14.0</td>\n",
              "      <td>80</td>\n",
              "      <td>103.548095</td>\n",
              "      <td>-23.548095</td>\n",
              "    </tr>\n",
              "    <tr>\n",
              "      <th>3</th>\n",
              "      <td>147.0</td>\n",
              "      <td>1777</td>\n",
              "      <td>1208.643573</td>\n",
              "      <td>568.356427</td>\n",
              "    </tr>\n",
              "    <tr>\n",
              "      <th>4</th>\n",
              "      <td>49.0</td>\n",
              "      <td>393</td>\n",
              "      <td>394.362695</td>\n",
              "      <td>-1.362695</td>\n",
              "    </tr>\n",
              "    <tr>\n",
              "      <th>5</th>\n",
              "      <td>33.0</td>\n",
              "      <td>186</td>\n",
              "      <td>261.418878</td>\n",
              "      <td>-75.418878</td>\n",
              "    </tr>\n",
              "    <tr>\n",
              "      <th>6</th>\n",
              "      <td>27.0</td>\n",
              "      <td>279</td>\n",
              "      <td>211.564947</td>\n",
              "      <td>67.435053</td>\n",
              "    </tr>\n",
              "    <tr>\n",
              "      <th>7</th>\n",
              "      <td>14.0</td>\n",
              "      <td>339</td>\n",
              "      <td>103.548095</td>\n",
              "      <td>235.451905</td>\n",
              "    </tr>\n",
              "    <tr>\n",
              "      <th>8</th>\n",
              "      <td>31.0</td>\n",
              "      <td>192</td>\n",
              "      <td>244.800901</td>\n",
              "      <td>-52.800901</td>\n",
              "    </tr>\n",
              "    <tr>\n",
              "      <th>9</th>\n",
              "      <td>26.0</td>\n",
              "      <td>142</td>\n",
              "      <td>203.255958</td>\n",
              "      <td>-61.255958</td>\n",
              "    </tr>\n",
              "    <tr>\n",
              "      <th>10</th>\n",
              "      <td>19.0</td>\n",
              "      <td>252</td>\n",
              "      <td>145.093038</td>\n",
              "      <td>106.906962</td>\n",
              "    </tr>\n",
              "    <tr>\n",
              "      <th>11</th>\n",
              "      <td>18.0</td>\n",
              "      <td>106</td>\n",
              "      <td>136.784050</td>\n",
              "      <td>-30.784050</td>\n",
              "    </tr>\n",
              "    <tr>\n",
              "      <th>12</th>\n",
              "      <td>14.0</td>\n",
              "      <td>104</td>\n",
              "      <td>103.548095</td>\n",
              "      <td>0.451905</td>\n",
              "    </tr>\n",
              "    <tr>\n",
              "      <th>13</th>\n",
              "      <td>10.0</td>\n",
              "      <td>152</td>\n",
              "      <td>70.312141</td>\n",
              "      <td>81.687859</td>\n",
              "    </tr>\n",
              "    <tr>\n",
              "      <th>14</th>\n",
              "      <td>20.0</td>\n",
              "      <td>599</td>\n",
              "      <td>153.402027</td>\n",
              "      <td>445.597973</td>\n",
              "    </tr>\n",
              "  </tbody>\n",
              "</table>\n",
              "</div>"
            ],
            "text/plain": [
              "    total de compartilhamento  ...    Residuos\n",
              "0                        17.0  ...  -28.475061\n",
              "1                        29.0  ...  -64.182924\n",
              "2                        14.0  ...  -23.548095\n",
              "3                       147.0  ...  568.356427\n",
              "4                        49.0  ...   -1.362695\n",
              "5                        33.0  ...  -75.418878\n",
              "6                        27.0  ...   67.435053\n",
              "7                        14.0  ...  235.451905\n",
              "8                        31.0  ...  -52.800901\n",
              "9                        26.0  ...  -61.255958\n",
              "10                       19.0  ...  106.906962\n",
              "11                       18.0  ...  -30.784050\n",
              "12                       14.0  ...    0.451905\n",
              "13                       10.0  ...   81.687859\n",
              "14                       20.0  ...  445.597973\n",
              "\n",
              "[15 rows x 4 columns]"
            ]
          },
          "metadata": {
            "tags": []
          },
          "execution_count": 27
        }
      ]
    },
    {
      "cell_type": "code",
      "metadata": {
        "id": "OIySO1NXs24e",
        "colab_type": "code",
        "outputId": "7d341456-35d0-4bf3-83c8-a65bdd10d5b4",
        "colab": {
          "base_uri": "https://localhost:8080/",
          "height": 170
        }
      },
      "source": [
        "amostrac.Residuos.describe()"
      ],
      "execution_count": 0,
      "outputs": [
        {
          "output_type": "execute_result",
          "data": {
            "text/plain": [
              "count    4.960000e+02\n",
              "mean     1.019973e-14\n",
              "std      1.415402e+02\n",
              "min     -5.206099e+02\n",
              "25%     -5.347506e+01\n",
              "50%     -1.044697e+01\n",
              "75%      2.069207e+01\n",
              "max      1.126227e+03\n",
              "Name: Residuos, dtype: float64"
            ]
          },
          "metadata": {
            "tags": []
          },
          "execution_count": 28
        }
      ]
    }
  ]
}